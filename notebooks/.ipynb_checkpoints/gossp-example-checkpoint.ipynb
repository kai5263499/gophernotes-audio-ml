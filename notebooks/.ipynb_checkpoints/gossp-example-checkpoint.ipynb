{
 "cells": [
  {
   "cell_type": "code",
   "execution_count": 1,
   "metadata": {},
   "outputs": [
    {
     "ename": "ERROR",
     "evalue": "error loading package \"github.com/r9y9/gossp/stft\" metadata, maybe you need to download (go get), compile (go build) and install (go install) it? can't find import: \"github.com/kai5263499/gophernotes-audio-ml/vendor/github.com/r9y9/gossp/stft\"",
     "output_type": "error",
     "traceback": [
      "error loading package \"github.com/r9y9/gossp/stft\" metadata, maybe you need to download (go get), compile (go build) and install (go install) it? can't find import: \"github.com/kai5263499/gophernotes-audio-ml/vendor/github.com/r9y9/gossp/stft\""
     ]
    }
   ],
   "source": [
    "import (\n",
    "\t\"flag\"\n",
    "\t\"fmt\"\n",
    "\t\"github.com/r9y9/gossp\"\n",
    "\t\"github.com/r9y9/gossp/io\"\n",
    "\t\"github.com/r9y9/gossp/stft\"\n",
    "\t\"github.com/r9y9/gossp/window\"\n",
    "\t\"log\"\n",
    "\t\"math\"\n",
    ")"
   ]
  },
  {
   "cell_type": "code",
   "execution_count": 2,
   "metadata": {},
   "outputs": [
    {
     "ename": "ERROR",
     "evalue": "repl.go:5:22: undefined \"math\" in math.Log <*ast.SelectorExpr>",
     "output_type": "error",
     "traceback": [
      "repl.go:5:22: undefined \"math\" in math.Log <*ast.SelectorExpr>"
     ]
    }
   ],
   "source": [
    "func PrintMatrixAsGnuplotFormat(matrix [][]float64) {\n",
    "\tfmt.Println(\"#\", len(matrix[0]), len(matrix)/2)\n",
    "\tfor i, vec := range matrix {\n",
    "\t\tfor j, val := range vec[:1024] {\n",
    "\t\t\tfmt.Println(i, j, math.Log(val))\n",
    "\t\t}\n",
    "\t\tfmt.Println(\"\")\n",
    "\t}\n",
    "}"
   ]
  },
  {
   "cell_type": "code",
   "execution_count": null,
   "metadata": {},
   "outputs": [],
   "source": [
    "filename := \"\"\n",
    "w, werr := io.ReadWav(*filename)\n",
    "if werr != nil {\n",
    "    log.Fatal(werr)\n",
    "}\n",
    "data := w.GetMonoData()\n",
    "\n",
    "s := &stft.STFT{\n",
    "    FrameShift: int(float64(w.SampleRate) / 100.0), // 0.01 sec,\n",
    "    FrameLen:   2048,\n",
    "    Window:     window.CreateHanning(2048),\n",
    "}\n",
    "\n",
    "spectrogram, _ := gossp.SplitSpectrogram(s.STFT(data))\n",
    "PrintMatrixAsGnuplotFormat(spectrogram)"
   ]
  }
 ],
 "metadata": {
  "kernelspec": {
   "display_name": "Go",
   "language": "go",
   "name": "gophernotes"
  },
  "language_info": {
   "codemirror_mode": "",
   "file_extension": ".go",
   "mimetype": "",
   "name": "go",
   "nbconvert_exporter": "",
   "pygments_lexer": "",
   "version": "go1.11.6"
  }
 },
 "nbformat": 4,
 "nbformat_minor": 2
}
